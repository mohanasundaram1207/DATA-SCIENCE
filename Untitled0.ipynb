{
  "nbformat": 4,
  "nbformat_minor": 0,
  "metadata": {
    "colab": {
      "provenance": [],
      "authorship_tag": "ABX9TyOYly4fdDcTwa7fjPrVUa8f",
      "include_colab_link": true
    },
    "kernelspec": {
      "name": "python3",
      "display_name": "Python 3"
    },
    "language_info": {
      "name": "python"
    }
  },
  "cells": [
    {
      "cell_type": "markdown",
      "metadata": {
        "id": "view-in-github",
        "colab_type": "text"
      },
      "source": [
        "<a href=\"https://colab.research.google.com/github/mohanasundaram1207/DATA-SCIENCE/blob/main/Untitled0.ipynb\" target=\"_parent\"><img src=\"https://colab.research.google.com/assets/colab-badge.svg\" alt=\"Open In Colab\"/></a>"
      ]
    },
    {
      "cell_type": "code",
      "execution_count": null,
      "metadata": {
        "colab": {
          "base_uri": "https://localhost:8080/"
        },
        "id": "xPE83F787q1e",
        "outputId": "a33f84a4-7932-4c33-8d95-729e5f90da17"
      },
      "outputs": [
        {
          "output_type": "stream",
          "name": "stdout",
          "text": [
            "Hello, Excited to start Data Science.\n"
          ]
        }
      ],
      "source": [
        "print(\"Hello, Excited to start Data Science.\")"
      ]
    },
    {
      "cell_type": "code",
      "source": [
        "customer_name = \"BALAMURUGAN\"\n",
        "customer_age = 28\n",
        "customer_balance = 35000000\n",
        "print(\"Customer : \",customer_name)\n",
        "print(\"Age : \", customer_age)\n",
        "print(\"Balance : \", customer_balance)"
      ],
      "metadata": {
        "colab": {
          "base_uri": "https://localhost:8080/"
        },
        "id": "fWodjwQG73vB",
        "outputId": "761dea73-3a3d-4a9f-c5a9-489ee111e0a6"
      },
      "execution_count": null,
      "outputs": [
        {
          "output_type": "stream",
          "name": "stdout",
          "text": [
            "Customer :  BALAMURUGAN\n",
            "Age :  28\n",
            "Balance :  35000000\n"
          ]
        }
      ]
    },
    {
      "cell_type": "code",
      "source": [
        "product_price = 23908\n",
        "discount = product_price*0.10\n",
        "final_price = product_price-discount\n",
        "print(\"Final Price after Discount : \",final_price)"
      ],
      "metadata": {
        "colab": {
          "base_uri": "https://localhost:8080/"
        },
        "id": "H4_nxGP699em",
        "outputId": "6b8f20b3-8479-4bfa-fa8d-2646aff44d63"
      },
      "execution_count": null,
      "outputs": [
        {
          "output_type": "stream",
          "name": "stdout",
          "text": [
            "Final Price after Discount :  21517.2\n"
          ]
        }
      ]
    },
    {
      "cell_type": "code",
      "source": [
        "import numpy as np\n",
        "sales=np.array([150,200,250,300,350,400,450,500])\n",
        "print(\"Sales Data:\",sales)"
      ],
      "metadata": {
        "colab": {
          "base_uri": "https://localhost:8080/"
        },
        "id": "mZxBjmy7_W75",
        "outputId": "d5a5cc6b-512c-4f7b-c023-a1dbaa30abb8"
      },
      "execution_count": null,
      "outputs": [
        {
          "output_type": "stream",
          "name": "stdout",
          "text": [
            "Sales Data: [150 200 250 300 350 400 450 500]\n"
          ]
        }
      ]
    },
    {
      "cell_type": "code",
      "source": [
        "print(\"Avrage Sales:\", np.mean(sales))\n",
        "print(\"Highest Sale:\",np.max(sales))\n",
        "print(\"Lowest Sales:\",np.min(sales))"
      ],
      "metadata": {
        "colab": {
          "base_uri": "https://localhost:8080/"
        },
        "id": "SrZ_jNXYAgno",
        "outputId": "6fd8e893-90e2-4ad1-b928-26fc719d5c22"
      },
      "execution_count": null,
      "outputs": [
        {
          "output_type": "stream",
          "name": "stdout",
          "text": [
            "Avrage Sales: 325.0\n",
            "Highest Sale: 500\n",
            "Lowest Sales: 150\n"
          ]
        }
      ]
    },
    {
      "cell_type": "code",
      "source": [
        "import pandas as pd\n",
        "data = {\n",
        "    \"Customer\":[\"Saravanan\",\"Balamurugan\",\"Mohansundaram\"],\n",
        "     \"Age\":[20,19,20],\n",
        "      \"Amount Spent\":[264,300,286]\n",
        "    }\n",
        "df=pd.DataFrame(data)\n",
        "print(df)"
      ],
      "metadata": {
        "colab": {
          "base_uri": "https://localhost:8080/"
        },
        "id": "xLptegGyBy7h",
        "outputId": "db9cf3a9-25c9-4815-a993-f768d1c22348"
      },
      "execution_count": null,
      "outputs": [
        {
          "output_type": "stream",
          "name": "stdout",
          "text": [
            "        Customer  Age  Amount Spent\n",
            "0      Saravanan   20           264\n",
            "1    Balamurugan   19           300\n",
            "2  Mohansundaram   20           286\n"
          ]
        }
      ]
    },
    {
      "cell_type": "code",
      "source": [
        "from google.colab import files\n",
        "uploaded = files.upload()\n",
        "df = pd.a"
      ],
      "metadata": {
        "id": "rBxBT5EpFQx7"
      },
      "execution_count": null,
      "outputs": []
    }
  ]
}